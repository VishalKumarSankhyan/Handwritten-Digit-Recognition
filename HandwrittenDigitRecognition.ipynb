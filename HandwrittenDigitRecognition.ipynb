{
 "cells": [
  {
   "cell_type": "code",
   "execution_count": 3,
   "id": "883d48a1",
   "metadata": {},
   "outputs": [],
   "source": [
    "import tensorflow as tf\n",
    "from tensorflow import keras\n",
    "import matplotlib.pyplot as plt\n",
    "%matplotlib inline \n",
    "import numpy as np"
   ]
  },
  {
   "cell_type": "markdown",
   "id": "b843b84c",
   "metadata": {},
   "source": [
    "# Load Dataset using sklearn"
   ]
  },
  {
   "cell_type": "code",
   "execution_count": 4,
   "id": "d3fefc4f",
   "metadata": {},
   "outputs": [],
   "source": [
    "from sklearn.datasets import load_digits\n",
    "digits_data = load_digits()"
   ]
  },
  {
   "cell_type": "code",
   "execution_count": 5,
   "id": "a0e4d243",
   "metadata": {},
   "outputs": [
    {
     "data": {
      "text/plain": [
       "{'data': array([[ 0.,  0.,  5., ...,  0.,  0.,  0.],\n",
       "        [ 0.,  0.,  0., ..., 10.,  0.,  0.],\n",
       "        [ 0.,  0.,  0., ..., 16.,  9.,  0.],\n",
       "        ...,\n",
       "        [ 0.,  0.,  1., ...,  6.,  0.,  0.],\n",
       "        [ 0.,  0.,  2., ..., 12.,  0.,  0.],\n",
       "        [ 0.,  0., 10., ..., 12.,  1.,  0.]]),\n",
       " 'target': array([0, 1, 2, ..., 8, 9, 8]),\n",
       " 'frame': None,\n",
       " 'feature_names': ['pixel_0_0',\n",
       "  'pixel_0_1',\n",
       "  'pixel_0_2',\n",
       "  'pixel_0_3',\n",
       "  'pixel_0_4',\n",
       "  'pixel_0_5',\n",
       "  'pixel_0_6',\n",
       "  'pixel_0_7',\n",
       "  'pixel_1_0',\n",
       "  'pixel_1_1',\n",
       "  'pixel_1_2',\n",
       "  'pixel_1_3',\n",
       "  'pixel_1_4',\n",
       "  'pixel_1_5',\n",
       "  'pixel_1_6',\n",
       "  'pixel_1_7',\n",
       "  'pixel_2_0',\n",
       "  'pixel_2_1',\n",
       "  'pixel_2_2',\n",
       "  'pixel_2_3',\n",
       "  'pixel_2_4',\n",
       "  'pixel_2_5',\n",
       "  'pixel_2_6',\n",
       "  'pixel_2_7',\n",
       "  'pixel_3_0',\n",
       "  'pixel_3_1',\n",
       "  'pixel_3_2',\n",
       "  'pixel_3_3',\n",
       "  'pixel_3_4',\n",
       "  'pixel_3_5',\n",
       "  'pixel_3_6',\n",
       "  'pixel_3_7',\n",
       "  'pixel_4_0',\n",
       "  'pixel_4_1',\n",
       "  'pixel_4_2',\n",
       "  'pixel_4_3',\n",
       "  'pixel_4_4',\n",
       "  'pixel_4_5',\n",
       "  'pixel_4_6',\n",
       "  'pixel_4_7',\n",
       "  'pixel_5_0',\n",
       "  'pixel_5_1',\n",
       "  'pixel_5_2',\n",
       "  'pixel_5_3',\n",
       "  'pixel_5_4',\n",
       "  'pixel_5_5',\n",
       "  'pixel_5_6',\n",
       "  'pixel_5_7',\n",
       "  'pixel_6_0',\n",
       "  'pixel_6_1',\n",
       "  'pixel_6_2',\n",
       "  'pixel_6_3',\n",
       "  'pixel_6_4',\n",
       "  'pixel_6_5',\n",
       "  'pixel_6_6',\n",
       "  'pixel_6_7',\n",
       "  'pixel_7_0',\n",
       "  'pixel_7_1',\n",
       "  'pixel_7_2',\n",
       "  'pixel_7_3',\n",
       "  'pixel_7_4',\n",
       "  'pixel_7_5',\n",
       "  'pixel_7_6',\n",
       "  'pixel_7_7'],\n",
       " 'target_names': array([0, 1, 2, 3, 4, 5, 6, 7, 8, 9]),\n",
       " 'images': array([[[ 0.,  0.,  5., ...,  1.,  0.,  0.],\n",
       "         [ 0.,  0., 13., ..., 15.,  5.,  0.],\n",
       "         [ 0.,  3., 15., ..., 11.,  8.,  0.],\n",
       "         ...,\n",
       "         [ 0.,  4., 11., ..., 12.,  7.,  0.],\n",
       "         [ 0.,  2., 14., ..., 12.,  0.,  0.],\n",
       "         [ 0.,  0.,  6., ...,  0.,  0.,  0.]],\n",
       " \n",
       "        [[ 0.,  0.,  0., ...,  5.,  0.,  0.],\n",
       "         [ 0.,  0.,  0., ...,  9.,  0.,  0.],\n",
       "         [ 0.,  0.,  3., ...,  6.,  0.,  0.],\n",
       "         ...,\n",
       "         [ 0.,  0.,  1., ...,  6.,  0.,  0.],\n",
       "         [ 0.,  0.,  1., ...,  6.,  0.,  0.],\n",
       "         [ 0.,  0.,  0., ..., 10.,  0.,  0.]],\n",
       " \n",
       "        [[ 0.,  0.,  0., ..., 12.,  0.,  0.],\n",
       "         [ 0.,  0.,  3., ..., 14.,  0.,  0.],\n",
       "         [ 0.,  0.,  8., ..., 16.,  0.,  0.],\n",
       "         ...,\n",
       "         [ 0.,  9., 16., ...,  0.,  0.,  0.],\n",
       "         [ 0.,  3., 13., ..., 11.,  5.,  0.],\n",
       "         [ 0.,  0.,  0., ..., 16.,  9.,  0.]],\n",
       " \n",
       "        ...,\n",
       " \n",
       "        [[ 0.,  0.,  1., ...,  1.,  0.,  0.],\n",
       "         [ 0.,  0., 13., ...,  2.,  1.,  0.],\n",
       "         [ 0.,  0., 16., ..., 16.,  5.,  0.],\n",
       "         ...,\n",
       "         [ 0.,  0., 16., ..., 15.,  0.,  0.],\n",
       "         [ 0.,  0., 15., ..., 16.,  0.,  0.],\n",
       "         [ 0.,  0.,  2., ...,  6.,  0.,  0.]],\n",
       " \n",
       "        [[ 0.,  0.,  2., ...,  0.,  0.,  0.],\n",
       "         [ 0.,  0., 14., ..., 15.,  1.,  0.],\n",
       "         [ 0.,  4., 16., ..., 16.,  7.,  0.],\n",
       "         ...,\n",
       "         [ 0.,  0.,  0., ..., 16.,  2.,  0.],\n",
       "         [ 0.,  0.,  4., ..., 16.,  2.,  0.],\n",
       "         [ 0.,  0.,  5., ..., 12.,  0.,  0.]],\n",
       " \n",
       "        [[ 0.,  0., 10., ...,  1.,  0.,  0.],\n",
       "         [ 0.,  2., 16., ...,  1.,  0.,  0.],\n",
       "         [ 0.,  0., 15., ..., 15.,  0.,  0.],\n",
       "         ...,\n",
       "         [ 0.,  4., 16., ..., 16.,  6.,  0.],\n",
       "         [ 0.,  8., 16., ..., 16.,  8.,  0.],\n",
       "         [ 0.,  1.,  8., ..., 12.,  1.,  0.]]]),\n",
       " 'DESCR': \".. _digits_dataset:\\n\\nOptical recognition of handwritten digits dataset\\n--------------------------------------------------\\n\\n**Data Set Characteristics:**\\n\\n    :Number of Instances: 1797\\n    :Number of Attributes: 64\\n    :Attribute Information: 8x8 image of integer pixels in the range 0..16.\\n    :Missing Attribute Values: None\\n    :Creator: E. Alpaydin (alpaydin '@' boun.edu.tr)\\n    :Date: July; 1998\\n\\nThis is a copy of the test set of the UCI ML hand-written digits datasets\\nhttps://archive.ics.uci.edu/ml/datasets/Optical+Recognition+of+Handwritten+Digits\\n\\nThe data set contains images of hand-written digits: 10 classes where\\neach class refers to a digit.\\n\\nPreprocessing programs made available by NIST were used to extract\\nnormalized bitmaps of handwritten digits from a preprinted form. From a\\ntotal of 43 people, 30 contributed to the training set and different 13\\nto the test set. 32x32 bitmaps are divided into nonoverlapping blocks of\\n4x4 and the number of on pixels are counted in each block. This generates\\nan input matrix of 8x8 where each element is an integer in the range\\n0..16. This reduces dimensionality and gives invariance to small\\ndistortions.\\n\\nFor info on NIST preprocessing routines, see M. D. Garris, J. L. Blue, G.\\nT. Candela, D. L. Dimmick, J. Geist, P. J. Grother, S. A. Janet, and C.\\nL. Wilson, NIST Form-Based Handprint Recognition System, NISTIR 5469,\\n1994.\\n\\n.. topic:: References\\n\\n  - C. Kaynak (1995) Methods of Combining Multiple Classifiers and Their\\n    Applications to Handwritten Digit Recognition, MSc Thesis, Institute of\\n    Graduate Studies in Science and Engineering, Bogazici University.\\n  - E. Alpaydin, C. Kaynak (1998) Cascading Classifiers, Kybernetika.\\n  - Ken Tang and Ponnuthurai N. Suganthan and Xi Yao and A. Kai Qin.\\n    Linear dimensionalityreduction using relevance weighted LDA. School of\\n    Electrical and Electronic Engineering Nanyang Technological University.\\n    2005.\\n  - Claudio Gentile. A New Approximate Maximal Margin Classification\\n    Algorithm. NIPS. 2000.\\n\"}"
      ]
     },
     "execution_count": 5,
     "metadata": {},
     "output_type": "execute_result"
    }
   ],
   "source": [
    "digits_data"
   ]
  },
  {
   "cell_type": "code",
   "execution_count": 30,
   "id": "984a5839",
   "metadata": {},
   "outputs": [
    {
     "data": {
      "text/plain": [
       "array([[ 0.,  0.,  5., ...,  0.,  0.,  0.],\n",
       "       [ 0.,  0.,  0., ..., 10.,  0.,  0.],\n",
       "       [ 0.,  0.,  0., ..., 16.,  9.,  0.],\n",
       "       ...,\n",
       "       [ 0.,  0.,  1., ...,  6.,  0.,  0.],\n",
       "       [ 0.,  0.,  2., ..., 12.,  0.,  0.],\n",
       "       [ 0.,  0., 10., ..., 12.,  1.,  0.]])"
      ]
     },
     "execution_count": 30,
     "metadata": {},
     "output_type": "execute_result"
    }
   ],
   "source": [
    "x = digits_data.data\n",
    "x"
   ]
  },
  {
   "cell_type": "code",
   "execution_count": 41,
   "id": "71a3cdc9",
   "metadata": {},
   "outputs": [
    {
     "data": {
      "text/plain": [
       "array([[ 0.,  0.,  5., 13.,  9.,  1.,  0.,  0.],\n",
       "       [ 0.,  0., 13., 15., 10., 15.,  5.,  0.],\n",
       "       [ 0.,  3., 15.,  2.,  0., 11.,  8.,  0.],\n",
       "       [ 0.,  4., 12.,  0.,  0.,  8.,  8.,  0.],\n",
       "       [ 0.,  5.,  8.,  0.,  0.,  9.,  8.,  0.],\n",
       "       [ 0.,  4., 11.,  0.,  1., 12.,  7.,  0.],\n",
       "       [ 0.,  2., 14.,  5., 10., 12.,  0.,  0.],\n",
       "       [ 0.,  0.,  6., 13., 10.,  0.,  0.,  0.]])"
      ]
     },
     "execution_count": 41,
     "metadata": {},
     "output_type": "execute_result"
    }
   ],
   "source": [
    "s = x[0].reshape(8,8)\n",
    "s"
   ]
  },
  {
   "cell_type": "code",
   "execution_count": 39,
   "id": "04076744",
   "metadata": {},
   "outputs": [
    {
     "data": {
      "text/plain": [
       "<matplotlib.image.AxesImage at 0x1a5057cfbe0>"
      ]
     },
     "execution_count": 39,
     "metadata": {},
     "output_type": "execute_result"
    },
    {
     "data": {
      "image/png": "[encoded data removed]",
      "text/plain": [
       "<Figure size 480x480 with 1 Axes>"
      ]
     },
     "metadata": {},
     "output_type": "display_data"
    }
   ],
   "source": [
    "plt.matshow(s)"
   ]
  },
  {
   "cell_type": "code",
   "execution_count": 8,
   "id": "946c2a82",
   "metadata": {},
   "outputs": [
    {
     "data": {
      "text/plain": [
       "array([0, 1, 2, ..., 8, 9, 8])"
      ]
     },
     "execution_count": 8,
     "metadata": {},
     "output_type": "execute_result"
    }
   ],
   "source": [
    "y = digits_data.target\n",
    "y"
   ]
  },
  {
   "cell_type": "code",
   "execution_count": 10,
   "id": "991e2e96",
   "metadata": {},
   "outputs": [],
   "source": [
    "from sklearn.model_selection import train_test_split"
   ]
  },
  {
   "cell_type": "code",
   "execution_count": 66,
   "id": "75796e12",
   "metadata": {},
   "outputs": [],
   "source": [
    "x_train , x_test , y_train , y_test = train_test_split(x,y,test_size=0.2)"
   ]
  },
  {
   "cell_type": "code",
   "execution_count": 12,
   "id": "9c0535a6",
   "metadata": {},
   "outputs": [
    {
     "data": {
      "text/plain": [
       "1437"
      ]
     },
     "execution_count": 12,
     "metadata": {},
     "output_type": "execute_result"
    }
   ],
   "source": [
    "len(x_train)"
   ]
  },
  {
   "cell_type": "code",
   "execution_count": 13,
   "id": "b23f7410",
   "metadata": {},
   "outputs": [
    {
     "data": {
      "text/plain": [
       "360"
      ]
     },
     "execution_count": 13,
     "metadata": {},
     "output_type": "execute_result"
    }
   ],
   "source": [
    "len(x_test)"
   ]
  },
  {
   "cell_type": "code",
   "execution_count": 32,
   "id": "16de1b10",
   "metadata": {},
   "outputs": [
    {
     "data": {
      "text/plain": [
       "array([[ 0.,  0.,  1.,  9., 15., 11.,  0.,  0.],\n",
       "       [ 0.,  0., 11., 16.,  8., 14.,  6.,  0.],\n",
       "       [ 0.,  2., 16., 10.,  0.,  9.,  9.,  0.],\n",
       "       [ 0.,  1., 16.,  4.,  0.,  8.,  8.,  0.],\n",
       "       [ 0.,  4., 16.,  4.,  0.,  8.,  8.,  0.],\n",
       "       [ 0.,  1., 16.,  5.,  1., 11.,  3.,  0.],\n",
       "       [ 0.,  0., 12., 12., 10., 10.,  0.,  0.],\n",
       "       [ 0.,  0.,  1., 10., 13.,  3.,  0.,  0.]])"
      ]
     },
     "execution_count": 32,
     "metadata": {},
     "output_type": "execute_result"
    }
   ],
   "source": [
    "digits_data.images[10]"
   ]
  },
  {
   "cell_type": "code",
   "execution_count": 26,
   "id": "1ea76536",
   "metadata": {},
   "outputs": [
    {
     "data": {
      "text/plain": [
       "Text(0.5, 1.0, '0')"
      ]
     },
     "execution_count": 26,
     "metadata": {},
     "output_type": "execute_result"
    },
    {
     "data": {
      "image/png": "[encoded data removed]",
      "text/plain": [
       "<Figure size 480x480 with 1 Axes>"
      ]
     },
     "metadata": {},
     "output_type": "display_data"
    }
   ],
   "source": [
    "plt.matshow(digits_data.images[10])\n",
    "plt.gray()\n",
    "plt.title(digits_data.target[10])"
   ]
  },
  {
   "cell_type": "code",
   "execution_count": 27,
   "id": "3ac49b85",
   "metadata": {},
   "outputs": [
    {
     "data": {
      "image/png": "[encoded data removed]",
      "text/plain": [
       "<Figure size 480x480 with 1 Axes>"
      ]
     },
     "metadata": {},
     "output_type": "display_data"
    },
    {
     "data": {
      "image/png": "[encoded data removed]",
      "text/plain": [
       "<Figure size 480x480 with 1 Axes>"
      ]
     },
     "metadata": {},
     "output_type": "display_data"
    },
    {
     "data": {
      "image/png": "[encoded data removed]",
      "text/plain": [
       "<Figure size 480x480 with 1 Axes>"
      ]
     },
     "metadata": {},
     "output_type": "display_data"
    },
    {
     "data": {
      "image/png": "[encoded data removed]",
      "text/plain": [
       "<Figure size 480x480 with 1 Axes>"
      ]
     },
     "metadata": {},
     "output_type": "display_data"
    },
    {
     "data": {
      "image/png": "[encoded data removed]",
      "text/plain": [
       "<Figure size 480x480 with 1 Axes>"
      ]
     },
     "metadata": {},
     "output_type": "display_data"
    },
    {
     "data": {
      "image/png": "[encoded data removed]",
      "text/plain": [
       "<Figure size 480x480 with 1 Axes>"
      ]
     },
     "metadata": {},
     "output_type": "display_data"
    },
    {
     "data": {
      "image/png": "[encoded data removed]",
      "text/plain": [
       "<Figure size 480x480 with 1 Axes>"
      ]
     },
     "metadata": {},
     "output_type": "display_data"
    },
    {
     "data": {
      "image/png": "[encoded data removed]",
      "text/plain": [
       "<Figure size 480x480 with 1 Axes>"
      ]
     },
     "metadata": {},
     "output_type": "display_data"
    },
    {
     "data": {
      "image/png": "[encoded data removed]",
      "text/plain": [
       "<Figure size 480x480 with 1 Axes>"
      ]
     },
     "metadata": {},
     "output_type": "display_data"
    },
    {
     "data": {
      "image/png": "[encoded data removed]",
      "text/plain": [
       "<Figure size 480x480 with 1 Axes>"
      ]
     },
     "metadata": {},
     "output_type": "display_data"
    }
   ],
   "source": [
    "for i in range(0,10):\n",
    "    plt.matshow(digits_data.images[i])\n",
    "    plt.gray()\n",
    "    plt.title(digits_data.target[i])"
   ]
  },
  {
   "cell_type": "markdown",
   "id": "e0afd369",
   "metadata": {},
   "source": [
    "# Load Dataset using Tesorflow"
   ]
  },
  {
   "cell_type": "code",
   "execution_count": 29,
   "id": "01c0707d",
   "metadata": {},
   "outputs": [],
   "source": [
    "# (x_train,x_test),(y_train,y_test) = keras.datasets.mnist.load_data()"
   ]
  },
  {
   "cell_type": "markdown",
   "id": "7cd37794",
   "metadata": {},
   "source": [
    "# Data PreProcessing"
   ]
  },
  {
   "cell_type": "code",
   "execution_count": 62,
   "id": "2df1fb12",
   "metadata": {},
   "outputs": [
    {
     "data": {
      "text/plain": [
       "(1437, 64)"
      ]
     },
     "execution_count": 62,
     "metadata": {},
     "output_type": "execute_result"
    }
   ],
   "source": [
    "x_train.shape"
   ]
  },
  {
   "cell_type": "code",
   "execution_count": 67,
   "id": "c4b45c73",
   "metadata": {},
   "outputs": [
    {
     "data": {
      "text/plain": [
       "array([ 0.,  4., 13., 16., 16.,  7.,  0.,  0.,  0.,  8., 12., 16., 16.,\n",
       "       13.,  0.,  0.,  0.,  0.,  9., 16., 16.,  3.,  0.,  0.,  0.,  0.,\n",
       "       15., 16.,  6.,  0.,  0.,  0.,  0.,  0., 10., 11.,  9.,  2.,  0.,\n",
       "        0.,  0.,  0.,  1.,  7., 15., 13.,  2.,  0.,  0.,  0.,  3.,  4.,\n",
       "        7., 16., 10.,  0.,  0.,  2., 11., 15., 11.,  8.,  2.,  0.])"
      ]
     },
     "execution_count": 67,
     "metadata": {},
     "output_type": "execute_result"
    }
   ],
   "source": [
    "x_train[0]"
   ]
  },
  {
   "cell_type": "code",
   "execution_count": 76,
   "id": "59ee5b83",
   "metadata": {},
   "outputs": [
    {
     "name": "stdout",
     "output_type": "stream",
     "text": [
      "Epoch 1/25\n",
      "45/45 [==============================] - 0s 1ms/step - loss: 13.5834 - accuracy: 0.1712\n",
      "Epoch 2/25\n",
      "45/45 [==============================] - 0s 1ms/step - loss: 6.3033 - accuracy: 0.2067\n",
      "Epoch 3/25\n",
      "45/45 [==============================] - 0s 1ms/step - loss: 3.8595 - accuracy: 0.3333\n",
      "Epoch 4/25\n",
      "45/45 [==============================] - 0s 1ms/step - loss: 2.6091 - accuracy: 0.4927\n",
      "Epoch 5/25\n",
      "45/45 [==============================] - 0s 1ms/step - loss: 1.9350 - accuracy: 0.5999\n",
      "Epoch 6/25\n",
      "45/45 [==============================] - 0s 1ms/step - loss: 1.5200 - accuracy: 0.6695\n",
      "Epoch 7/25\n",
      "45/45 [==============================] - 0s 939us/step - loss: 1.2374 - accuracy: 0.7126\n",
      "Epoch 8/25\n",
      "45/45 [==============================] - 0s 1ms/step - loss: 1.0205 - accuracy: 0.7432\n",
      "Epoch 9/25\n",
      "45/45 [==============================] - 0s 1ms/step - loss: 0.8630 - accuracy: 0.7690\n",
      "Epoch 10/25\n",
      "45/45 [==============================] - 0s 1ms/step - loss: 0.7349 - accuracy: 0.7996\n",
      "Epoch 11/25\n",
      "45/45 [==============================] - 0s 2ms/step - loss: 0.6428 - accuracy: 0.8149\n",
      "Epoch 12/25\n",
      "45/45 [==============================] - 0s 883us/step - loss: 0.5675 - accuracy: 0.8406\n",
      "Epoch 13/25\n",
      "45/45 [==============================] - 0s 929us/step - loss: 0.5049 - accuracy: 0.8546\n",
      "Epoch 14/25\n",
      "45/45 [==============================] - 0s 1ms/step - loss: 0.4552 - accuracy: 0.8699\n",
      "Epoch 15/25\n",
      "45/45 [==============================] - 0s 1ms/step - loss: 0.4132 - accuracy: 0.8810\n",
      "Epoch 16/25\n",
      "45/45 [==============================] - 0s 1ms/step - loss: 0.3760 - accuracy: 0.8900\n",
      "Epoch 17/25\n",
      "45/45 [==============================] - 0s 1ms/step - loss: 0.3443 - accuracy: 0.8984\n",
      "Epoch 18/25\n",
      "45/45 [==============================] - 0s 2ms/step - loss: 0.3184 - accuracy: 0.9026\n",
      "Epoch 19/25\n",
      "45/45 [==============================] - 0s 974us/step - loss: 0.2975 - accuracy: 0.9068\n",
      "Epoch 20/25\n",
      "45/45 [==============================] - 0s 1ms/step - loss: 0.2778 - accuracy: 0.9102\n",
      "Epoch 21/25\n",
      "45/45 [==============================] - 0s 2ms/step - loss: 0.2590 - accuracy: 0.9123\n",
      "Epoch 22/25\n",
      "45/45 [==============================] - 0s 1ms/step - loss: 0.2389 - accuracy: 0.9186\n",
      "Epoch 23/25\n",
      "45/45 [==============================] - 0s 1ms/step - loss: 0.2278 - accuracy: 0.9235\n",
      "Epoch 24/25\n",
      "45/45 [==============================] - 0s 1ms/step - loss: 0.2132 - accuracy: 0.9269\n",
      "Epoch 25/25\n",
      "45/45 [==============================] - 0s 1ms/step - loss: 0.2031 - accuracy: 0.9304\n"
     ]
    },
    {
     "data": {
      "text/plain": [
       "<keras.callbacks.History at 0x1a50b985a30>"
      ]
     },
     "execution_count": 76,
     "metadata": {},
     "output_type": "execute_result"
    }
   ],
   "source": [
    "model = keras.Sequential([\n",
    "    keras.layers.Dense(10, input_shape=(64,),activation=\"sigmoid\")\n",
    "])\n",
    "\n",
    "model.compile(\n",
    "    optimizer='adam',\n",
    "    loss=\"sparse_categorical_crossentropy\",\n",
    "    metrics=['accuracy']\n",
    ")\n",
    "\n",
    "model.fit(x_train,y_train,epochs=25)"
   ]
  },
  {
   "cell_type": "code",
   "execution_count": 77,
   "id": "7233f123",
   "metadata": {},
   "outputs": [
    {
     "name": "stdout",
     "output_type": "stream",
     "text": [
      "12/12 [==============================] - 0s 2ms/step - loss: 0.1903 - accuracy: 0.9333\n"
     ]
    },
    {
     "data": {
      "text/plain": [
       "[0.19027061760425568, 0.9333333373069763]"
      ]
     },
     "execution_count": 77,
     "metadata": {},
     "output_type": "execute_result"
    }
   ],
   "source": [
    "model.evaluate(x_test,y_test)"
   ]
  },
  {
   "cell_type": "code",
   "execution_count": 89,
   "id": "1ffa6e26",
   "metadata": {},
   "outputs": [
    {
     "data": {
      "image/png": "[encoded data removed]",
      "text/plain": [
       "<Figure size 480x480 with 1 Axes>"
      ]
     },
     "metadata": {},
     "output_type": "display_data"
    }
   ],
   "source": [
    "i = 1\n",
    "s = x_test[i].reshape(8,8)\n",
    "plt.matshow(s)\n",
    "plt.title(y_test[i])\n",
    "plt.show()"
   ]
  },
  {
   "cell_type": "code",
   "execution_count": null,
   "id": "a06e19a4",
   "metadata": {},
   "outputs": [],
   "source": []
  },
  {
   "cell_type": "code",
   "execution_count": 83,
   "id": "32bfc768",
   "metadata": {},
   "outputs": [
    {
     "name": "stdout",
     "output_type": "stream",
     "text": [
      "12/12 [==============================] - 0s 1ms/step\n"
     ]
    },
    {
     "data": {
      "text/plain": [
       "array([[1.2710376e-08, 9.9804550e-01, 9.9626845e-01, ..., 9.4796127e-01,\n",
       "        9.4703126e-01, 9.9959373e-01],\n",
       "       [1.7220302e-03, 9.9997032e-01, 1.0398766e-03, ..., 9.3059492e-01,\n",
       "        8.3475316e-01, 2.5191844e-01],\n",
       "       [9.6056669e-07, 9.8996854e-01, 9.9996763e-01, ..., 5.9251173e-04,\n",
       "        9.9697095e-01, 4.0960103e-01],\n",
       "       ...,\n",
       "       [3.0350840e-11, 4.6049569e-02, 9.7826183e-01, ..., 9.9999750e-01,\n",
       "        3.1020772e-01, 1.4479594e-01],\n",
       "       [9.9937928e-01, 4.6562982e-01, 1.1842453e-01, ..., 9.9997437e-01,\n",
       "        9.9778897e-01, 2.8470327e-04],\n",
       "       [2.6193536e-10, 8.8226801e-01, 9.8949611e-01, ..., 9.9999958e-01,\n",
       "        9.9480873e-01, 7.0263302e-01]], dtype=float32)"
      ]
     },
     "execution_count": 83,
     "metadata": {},
     "output_type": "execute_result"
    }
   ],
   "source": [
    "y_predicted = model.predict(x_test)\n",
    "y_predicted"
   ]
  },
  {
   "cell_type": "code",
   "execution_count": 90,
   "id": "57e5babd",
   "metadata": {},
   "outputs": [
    {
     "data": {
      "text/plain": [
       "array([1.7220302e-03, 9.9997032e-01, 1.0398766e-03, 1.5935874e-01,\n",
       "       1.0000000e+00, 9.0160675e-06, 9.7086191e-01, 9.3059492e-01,\n",
       "       8.3475316e-01, 2.5191844e-01], dtype=float32)"
      ]
     },
     "execution_count": 90,
     "metadata": {},
     "output_type": "execute_result"
    }
   ],
   "source": [
    "y_predicted[i]"
   ]
  },
  {
   "cell_type": "code",
   "execution_count": 91,
   "id": "8cf18dd4",
   "metadata": {},
   "outputs": [
    {
     "data": {
      "text/plain": [
       "4"
      ]
     },
     "execution_count": 91,
     "metadata": {},
     "output_type": "execute_result"
    }
   ],
   "source": [
    "np.argmax(y_predicted[i])"
   ]
  },
  {
   "cell_type": "code",
   "execution_count": 94,
   "id": "69fa5929",
   "metadata": {},
   "outputs": [
    {
     "data": {
      "text/plain": [
       "[3,\n",
       " 4,\n",
       " 2,\n",
       " 0,\n",
       " 7,\n",
       " 2,\n",
       " 6,\n",
       " 5,\n",
       " 2,\n",
       " 8,\n",
       " 7,\n",
       " 5,\n",
       " 0,\n",
       " 7,\n",
       " 6,\n",
       " 6,\n",
       " 8,\n",
       " 8,\n",
       " 8,\n",
       " 4,\n",
       " 7,\n",
       " 1,\n",
       " 8,\n",
       " 9,\n",
       " 0,\n",
       " 2,\n",
       " 4,\n",
       " 1,\n",
       " 6,\n",
       " 6,\n",
       " 2,\n",
       " 2,\n",
       " 4,\n",
       " 7,\n",
       " 6,\n",
       " 8,\n",
       " 7,\n",
       " 0,\n",
       " 0,\n",
       " 1,\n",
       " 2,\n",
       " 4,\n",
       " 8,\n",
       " 4,\n",
       " 1,\n",
       " 8,\n",
       " 1,\n",
       " 5,\n",
       " 5,\n",
       " 5,\n",
       " 6,\n",
       " 3,\n",
       " 7,\n",
       " 5,\n",
       " 0,\n",
       " 8,\n",
       " 0,\n",
       " 7,\n",
       " 1,\n",
       " 2,\n",
       " 9,\n",
       " 6,\n",
       " 3,\n",
       " 2,\n",
       " 0,\n",
       " 5,\n",
       " 6,\n",
       " 5,\n",
       " 0,\n",
       " 2,\n",
       " 9,\n",
       " 4,\n",
       " 4,\n",
       " 5,\n",
       " 8,\n",
       " 5,\n",
       " 1,\n",
       " 6,\n",
       " 0,\n",
       " 3,\n",
       " 8,\n",
       " 9,\n",
       " 1,\n",
       " 7,\n",
       " 1,\n",
       " 4,\n",
       " 0,\n",
       " 1,\n",
       " 7,\n",
       " 4,\n",
       " 4,\n",
       " 0,\n",
       " 0,\n",
       " 4,\n",
       " 6,\n",
       " 8,\n",
       " 3,\n",
       " 7,\n",
       " 2,\n",
       " 1,\n",
       " 6,\n",
       " 7,\n",
       " 2,\n",
       " 5,\n",
       " 1,\n",
       " 6,\n",
       " 0,\n",
       " 0,\n",
       " 5,\n",
       " 3,\n",
       " 8,\n",
       " 4,\n",
       " 7,\n",
       " 8,\n",
       " 9,\n",
       " 3,\n",
       " 6,\n",
       " 5,\n",
       " 0,\n",
       " 6,\n",
       " 9,\n",
       " 2,\n",
       " 3,\n",
       " 9,\n",
       " 4,\n",
       " 0,\n",
       " 7,\n",
       " 0,\n",
       " 7,\n",
       " 9,\n",
       " 0,\n",
       " 9,\n",
       " 1,\n",
       " 5,\n",
       " 2,\n",
       " 1,\n",
       " 2,\n",
       " 4,\n",
       " 2,\n",
       " 9,\n",
       " 9,\n",
       " 1,\n",
       " 3,\n",
       " 8,\n",
       " 4,\n",
       " 6,\n",
       " 6,\n",
       " 2,\n",
       " 0,\n",
       " 0,\n",
       " 4,\n",
       " 8,\n",
       " 8,\n",
       " 6,\n",
       " 2,\n",
       " 7,\n",
       " 6,\n",
       " 5,\n",
       " 1,\n",
       " 1,\n",
       " 3,\n",
       " 0,\n",
       " 7,\n",
       " 1,\n",
       " 5,\n",
       " 6,\n",
       " 3,\n",
       " 3,\n",
       " 5,\n",
       " 5,\n",
       " 2,\n",
       " 8,\n",
       " 6,\n",
       " 0,\n",
       " 0,\n",
       " 3,\n",
       " 0,\n",
       " 6,\n",
       " 7,\n",
       " 0,\n",
       " 9,\n",
       " 4,\n",
       " 2,\n",
       " 7,\n",
       " 1,\n",
       " 1,\n",
       " 8,\n",
       " 8,\n",
       " 8,\n",
       " 5,\n",
       " 6,\n",
       " 1,\n",
       " 7,\n",
       " 1,\n",
       " 8,\n",
       " 6,\n",
       " 2,\n",
       " 7,\n",
       " 2,\n",
       " 1,\n",
       " 6,\n",
       " 9,\n",
       " 2,\n",
       " 0,\n",
       " 1,\n",
       " 2,\n",
       " 9,\n",
       " 3,\n",
       " 0,\n",
       " 1,\n",
       " 2,\n",
       " 6,\n",
       " 8,\n",
       " 1,\n",
       " 9,\n",
       " 0,\n",
       " 6,\n",
       " 8,\n",
       " 7,\n",
       " 1,\n",
       " 9,\n",
       " 8,\n",
       " 9,\n",
       " 1,\n",
       " 7,\n",
       " 8,\n",
       " 2,\n",
       " 2,\n",
       " 8,\n",
       " 1,\n",
       " 4,\n",
       " 2,\n",
       " 9,\n",
       " 4,\n",
       " 2,\n",
       " 6,\n",
       " 1,\n",
       " 8,\n",
       " 2,\n",
       " 3,\n",
       " 4,\n",
       " 4,\n",
       " 0,\n",
       " 8,\n",
       " 7,\n",
       " 6,\n",
       " 4,\n",
       " 5,\n",
       " 4,\n",
       " 0,\n",
       " 0,\n",
       " 6,\n",
       " 9,\n",
       " 3,\n",
       " 0,\n",
       " 4,\n",
       " 6,\n",
       " 8,\n",
       " 1,\n",
       " 2,\n",
       " 5,\n",
       " 7,\n",
       " 0,\n",
       " 7,\n",
       " 3,\n",
       " 7,\n",
       " 3,\n",
       " 0,\n",
       " 4,\n",
       " 7,\n",
       " 6,\n",
       " 3,\n",
       " 3,\n",
       " 5,\n",
       " 4,\n",
       " 5,\n",
       " 3,\n",
       " 2,\n",
       " 1,\n",
       " 6,\n",
       " 7,\n",
       " 5,\n",
       " 7,\n",
       " 2,\n",
       " 8,\n",
       " 0,\n",
       " 4,\n",
       " 8,\n",
       " 7,\n",
       " 9,\n",
       " 3,\n",
       " 7,\n",
       " 3,\n",
       " 6,\n",
       " 6,\n",
       " 5,\n",
       " 9,\n",
       " 2,\n",
       " 9,\n",
       " 7,\n",
       " 4,\n",
       " 9,\n",
       " 2,\n",
       " 3,\n",
       " 1,\n",
       " 7,\n",
       " 6,\n",
       " 3,\n",
       " 9,\n",
       " 4,\n",
       " 0,\n",
       " 3,\n",
       " 0,\n",
       " 9,\n",
       " 7,\n",
       " 5,\n",
       " 3,\n",
       " 2,\n",
       " 3,\n",
       " 5,\n",
       " 4,\n",
       " 4,\n",
       " 3,\n",
       " 6,\n",
       " 8,\n",
       " 8,\n",
       " 1,\n",
       " 7,\n",
       " 0,\n",
       " 4,\n",
       " 1,\n",
       " 8,\n",
       " 7,\n",
       " 4,\n",
       " 6,\n",
       " 6,\n",
       " 4,\n",
       " 3,\n",
       " 4,\n",
       " 0,\n",
       " 4,\n",
       " 8,\n",
       " 2,\n",
       " 6,\n",
       " 6,\n",
       " 0,\n",
       " 7,\n",
       " 0,\n",
       " 7,\n",
       " 1,\n",
       " 1,\n",
       " 8,\n",
       " 4,\n",
       " 4,\n",
       " 5,\n",
       " 1,\n",
       " 3,\n",
       " 7,\n",
       " 4,\n",
       " 7]"
      ]
     },
     "execution_count": 94,
     "metadata": {},
     "output_type": "execute_result"
    }
   ],
   "source": [
    "y_predicted_labels = [np.argmax(j) for j in y_predicted]\n",
    "y_predicted_labels"
   ]
  },
  {
   "cell_type": "code",
   "execution_count": 98,
   "id": "b1335470",
   "metadata": {},
   "outputs": [],
   "source": [
    "cm = tf.math.confusion_matrix(labels=y_test,predictions=y_predicted_labels)"
   ]
  },
  {
   "cell_type": "code",
   "execution_count": 97,
   "id": "815d4489",
   "metadata": {},
   "outputs": [],
   "source": [
    "import seaborn as sn"
   ]
  },
  {
   "cell_type": "code",
   "execution_count": 99,
   "id": "51c3b9c6",
   "metadata": {},
   "outputs": [
    {
     "data": {
      "text/plain": [
       "Text(95.72222222222221, 0.5, 'True')"
      ]
     },
     "execution_count": 99,
     "metadata": {},
     "output_type": "execute_result"
    },
    {
     "data": {
      "image/png": "[encoded data removed]",
      "text/plain": [
       "<Figure size 1000x700 with 2 Axes>"
      ]
     },
     "metadata": {},
     "output_type": "display_data"
    }
   ],
   "source": [
    "plt.figure(figsize=(10,7))\n",
    "sn.heatmap(cm,annot=True,fmt='d')\n",
    "plt.xlabel(\"Predicted\")\n",
    "plt.ylabel(\"True\")"
   ]
  },
  {
   "cell_type": "code",
   "execution_count": 103,
   "id": "541c8f17",
   "metadata": {},
   "outputs": [
    {
     "name": "stdout",
     "output_type": "stream",
     "text": [
      "Epoch 1/25\n",
      "45/45 [==============================] - 0s 1ms/step - loss: 3.3020 - accuracy: 0.3911\n",
      "Epoch 2/25\n",
      "45/45 [==============================] - 0s 1ms/step - loss: 0.5181 - accuracy: 0.8260\n",
      "Epoch 3/25\n",
      "45/45 [==============================] - 0s 1ms/step - loss: 0.2790 - accuracy: 0.9144\n",
      "Epoch 4/25\n",
      "45/45 [==============================] - 0s 1ms/step - loss: 0.1901 - accuracy: 0.9450\n",
      "Epoch 5/25\n",
      "45/45 [==============================] - 0s 1ms/step - loss: 0.1492 - accuracy: 0.9555\n",
      "Epoch 6/25\n",
      "45/45 [==============================] - 0s 1ms/step - loss: 0.1094 - accuracy: 0.9729\n",
      "Epoch 7/25\n",
      "45/45 [==============================] - 0s 1ms/step - loss: 0.0915 - accuracy: 0.9784\n",
      "Epoch 8/25\n",
      "45/45 [==============================] - 0s 1ms/step - loss: 0.0766 - accuracy: 0.9819\n",
      "Epoch 9/25\n",
      "45/45 [==============================] - 0s 1ms/step - loss: 0.0641 - accuracy: 0.9889\n",
      "Epoch 10/25\n",
      "45/45 [==============================] - 0s 2ms/step - loss: 0.0662 - accuracy: 0.9854\n",
      "Epoch 11/25\n",
      "45/45 [==============================] - 0s 1ms/step - loss: 0.0516 - accuracy: 0.9903\n",
      "Epoch 12/25\n",
      "45/45 [==============================] - 0s 1ms/step - loss: 0.0410 - accuracy: 0.9951\n",
      "Epoch 13/25\n",
      "45/45 [==============================] - 0s 1ms/step - loss: 0.0354 - accuracy: 0.9965\n",
      "Epoch 14/25\n",
      "45/45 [==============================] - 0s 1ms/step - loss: 0.0341 - accuracy: 0.9944\n",
      "Epoch 15/25\n",
      "45/45 [==============================] - 0s 1ms/step - loss: 0.0337 - accuracy: 0.9930\n",
      "Epoch 16/25\n",
      "45/45 [==============================] - 0s 1ms/step - loss: 0.0392 - accuracy: 0.9916\n",
      "Epoch 17/25\n",
      "45/45 [==============================] - 0s 1ms/step - loss: 0.0245 - accuracy: 0.9958\n",
      "Epoch 18/25\n",
      "45/45 [==============================] - 0s 1ms/step - loss: 0.0206 - accuracy: 0.9979\n",
      "Epoch 19/25\n",
      "45/45 [==============================] - 0s 997us/step - loss: 0.0182 - accuracy: 0.9979\n",
      "Epoch 20/25\n",
      "45/45 [==============================] - 0s 997us/step - loss: 0.0179 - accuracy: 0.9972\n",
      "Epoch 21/25\n",
      "45/45 [==============================] - 0s 997us/step - loss: 0.0168 - accuracy: 0.9979\n",
      "Epoch 22/25\n",
      "45/45 [==============================] - 0s 1ms/step - loss: 0.0144 - accuracy: 0.9986\n",
      "Epoch 23/25\n",
      "45/45 [==============================] - 0s 974us/step - loss: 0.0128 - accuracy: 0.9993\n",
      "Epoch 24/25\n",
      "45/45 [==============================] - 0s 1ms/step - loss: 0.0135 - accuracy: 0.9993\n",
      "Epoch 25/25\n",
      "45/45 [==============================] - 0s 997us/step - loss: 0.0113 - accuracy: 0.9986\n"
     ]
    },
    {
     "data": {
      "text/plain": [
       "<keras.callbacks.History at 0x1a50ea90610>"
      ]
     },
     "execution_count": 103,
     "metadata": {},
     "output_type": "execute_result"
    }
   ],
   "source": [
    "model = keras.Sequential([\n",
    "    keras.layers.Dense(100, input_shape=(64,),activation=\"relu\"),\n",
    "    keras.layers.Dense(10, activation=\"sigmoid\")\n",
    "    \n",
    "])\n",
    "\n",
    "model.compile(\n",
    "    optimizer='adam',\n",
    "    loss=\"sparse_categorical_crossentropy\",\n",
    "    metrics=['accuracy']\n",
    ")\n",
    "\n",
    "model.fit(x_train,y_train,epochs=25)"
   ]
  },
  {
   "cell_type": "code",
   "execution_count": 104,
   "id": "094dc5f3",
   "metadata": {},
   "outputs": [
    {
     "name": "stdout",
     "output_type": "stream",
     "text": [
      "12/12 [==============================] - 0s 2ms/step - loss: 0.0690 - accuracy: 0.9806\n"
     ]
    },
    {
     "data": {
      "text/plain": [
       "[0.06900627166032791, 0.980555534362793]"
      ]
     },
     "execution_count": 104,
     "metadata": {},
     "output_type": "execute_result"
    }
   ],
   "source": [
    "model.evaluate(x_test,y_test)"
   ]
  },
  {
   "cell_type": "code",
   "execution_count": 105,
   "id": "02d0c904",
   "metadata": {},
   "outputs": [
    {
     "name": "stdout",
     "output_type": "stream",
     "text": [
      "12/12 [==============================] - 0s 2ms/step\n"
     ]
    },
    {
     "data": {
      "text/plain": [
       "array([[3.22120397e-09, 8.40813816e-01, 5.98116256e-02, ...,\n",
       "        8.22468176e-02, 2.31928285e-02, 2.52906829e-01],\n",
       "       [1.35568052e-03, 9.94870067e-01, 5.23397091e-07, ...,\n",
       "        1.46715413e-03, 5.08990064e-02, 3.26762733e-04],\n",
       "       [2.90504813e-05, 9.06546474e-01, 9.99622226e-01, ...,\n",
       "        3.30046304e-02, 8.55202451e-02, 1.33964783e-02],\n",
       "       ...,\n",
       "       [4.73683031e-05, 3.94343436e-01, 2.09809035e-01, ...,\n",
       "        9.99968112e-01, 1.28786880e-04, 2.30244491e-02],\n",
       "       [8.44608903e-01, 2.02692375e-01, 9.24783293e-03, ...,\n",
       "        1.03810556e-01, 1.62545603e-03, 2.41435524e-02],\n",
       "       [5.27660188e-04, 5.65023385e-02, 1.70821804e-04, ...,\n",
       "        9.99829650e-01, 9.75212897e-04, 2.41106935e-03]], dtype=float32)"
      ]
     },
     "execution_count": 105,
     "metadata": {},
     "output_type": "execute_result"
    }
   ],
   "source": [
    "y_predicted = model.predict(x_test)\n",
    "y_predicted"
   ]
  },
  {
   "cell_type": "code",
   "execution_count": 106,
   "id": "09eada64",
   "metadata": {},
   "outputs": [],
   "source": [
    "cm = tf.math.confusion_matrix(labels=y_test,predictions=y_predicted_labels)"
   ]
  },
  {
   "cell_type": "code",
   "execution_count": 107,
   "id": "d9c39104",
   "metadata": {},
   "outputs": [
    {
     "data": {
      "text/plain": [
       "Text(95.72222222222221, 0.5, 'True')"
      ]
     },
     "execution_count": 107,
     "metadata": {},
     "output_type": "execute_result"
    },
    {
     "data": {
      "image/png": "[encoded data removed]",
      "text/plain": [
       "<Figure size 1000x700 with 2 Axes>"
      ]
     },
     "metadata": {},
     "output_type": "display_data"
    }
   ],
   "source": [
    "plt.figure(figsize=(10,7))\n",
    "sn.heatmap(cm,annot=True,fmt='d')\n",
    "plt.xlabel(\"Predicted\")\n",
    "plt.ylabel(\"True\")"
   ]
  },
  {
   "cell_type": "code",
   "execution_count": null,
   "id": "23add1b3",
   "metadata": {},
   "outputs": [],
   "source": []
  }
 ],
 "metadata": {
  "kernelspec": {
   "display_name": "Python 3 (ipykernel)",
   "language": "python",
   "name": "python3"
  },
  "language_info": {
   "codemirror_mode": {
    "name": "ipython",
    "version": 3
   },
   "file_extension": ".py",
   "mimetype": "text/x-python",
   "name": "python",
   "nbconvert_exporter": "python",
   "pygments_lexer": "ipython3",
   "version": "3.8.10"
  }
 },
 "nbformat": 4,
 "nbformat_minor": 5
}
